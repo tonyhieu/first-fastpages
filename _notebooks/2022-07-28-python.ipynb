{
 "cells": [
  {
   "cell_type": "markdown",
   "metadata": {},
   "source": [
    "# Python Jupyter Notebook.\n",
    "> self explanatory title\n",
    "\n",
    "- categories: [jupyter]"
   ]
  },
  {
   "cell_type": "markdown",
   "metadata": {},
   "source": [
    "This is a Python Jupter Notebook."
   ]
  },
  {
   "cell_type": "code",
   "execution_count": 9,
   "metadata": {},
   "outputs": [
    {
     "name": "stdout",
     "output_type": "stream",
     "text": [
      "\u001b[32m         * \n",
      "\u001b[32m        * * \n",
      "\u001b[32m       * * * \n",
      "\u001b[32m      * * * * \n",
      "\u001b[32m     * * * * * \n",
      "\u001b[32m    * * * * * * \n",
      "\u001b[32m   * * * * * * * \n",
      "\u001b[32m  * * * * * * * * \n",
      "\u001b[32m * * * * * * * * * \n",
      "\u001b[32m* * * * * * * * * * \n",
      "\u001b[38;5;94m         ***\n",
      "\u001b[38;5;94m         ***\n",
      "\u001b[38;5;94m         ***\n"
     ]
    }
   ],
   "source": [
    "import os \n",
    "\n",
    "GREEN = \"\\u001b[32m\"\n",
    "BROWN = \"\\033[38;5;94m \"\n",
    "\n",
    "def christmas_tree():\n",
    "  for i in range(1, 11): # leaves\n",
    "    row = \"* \" * i\n",
    "    print(GREEN + \" \" * (10 - i) + row)\n",
    "\n",
    "  for i in range(3): # stump\n",
    "    print(BROWN + \" \" * 8 + \"***\")\n",
    "\n",
    "christmas_tree()"
   ]
  }
 ],
 "metadata": {
  "kernelspec": {
   "display_name": "Python 3.10.5 64-bit (windows store)",
   "language": "python",
   "name": "python3"
  },
  "language_info": {
   "codemirror_mode": {
    "name": "ipython",
    "version": 3
   },
   "file_extension": ".py",
   "mimetype": "text/x-python",
   "name": "python",
   "nbconvert_exporter": "python",
   "pygments_lexer": "ipython3",
   "version": "3.10.5"
  },
  "orig_nbformat": 4,
  "vscode": {
   "interpreter": {
    "hash": "a353d7e27fe9c8e5def102afe7b1f30da1e7b708cac20528f442b1c12ef1bafb"
   }
  }
 },
 "nbformat": 4,
 "nbformat_minor": 2
}
